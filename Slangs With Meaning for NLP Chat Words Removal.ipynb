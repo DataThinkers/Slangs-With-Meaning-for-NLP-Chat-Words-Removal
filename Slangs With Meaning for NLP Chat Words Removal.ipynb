{
 "cells": [
  {
   "cell_type": "code",
   "execution_count": 10,
   "metadata": {},
   "outputs": [],
   "source": [
    "data = [\n",
    "    {\"text\": \"The <b>quick</b> brown fox <i>jumps</i> over the lazy dog.Visit us at http://example.com\", \"sentiment\": \"positive\"},\n",
    "    {\"text\": \"I <u>hate</u> to paly football on the weekends sry 🏈.\", \"sentiment\": \"negative\"},\n",
    "    {\"text\": \"The weather is sunny and <a href='http://example.com'>warm</a> today ☀️.\", \"sentiment\": \"positive\"},\n",
    "    {\"text\": \"I am feeling tired and need to take a nap 😴.\", \"sentiment\": \"negative\"},\n",
    "    {\"text\": \"The new movie is terrible 😠. https://www.imdb.com/\", \"sentiment\": \"negative\"}\n",
    "]\n"
   ]
  },
  {
   "cell_type": "code",
   "execution_count": 11,
   "metadata": {},
   "outputs": [],
   "source": [
    "import pandas as pd\n",
    "data = pd.DataFrame(data)"
   ]
  },
  {
   "cell_type": "code",
   "execution_count": 12,
   "metadata": {},
   "outputs": [],
   "source": [
    "# slangs With Meaning for NLP Chat Words Removal\n",
    "dict1 = {\"AFAIK\":\"As Far As I Know\",\n",
    "\"AFK\":\"Away From Keyboard\",\n",
    "\"ASAP\":\"As Soon As Possible\",\n",
    "\"ATK\":\"At The Keyboard\",\n",
    "\"ATM\":\"At The Moment\",\n",
    "\"A3\":\"Anytime, Anywhere, Anyplace\",\n",
    "\"BAK\":\"Back At Keyboard\",\n",
    "\"BBL\":\"Be Back Later\",\n",
    "\"BBS\":\"Be Back Soon\",\n",
    "\"BFN\":\"Bye For Now\",\n",
    "\"B4N\":\"Bye For Now\",\n",
    "\"BRB\":\"Be Right Back\",\n",
    "\"BRT\":\"Be Right There\",\n",
    "\"BTW\":\"By The Way\",\n",
    "\"B4\":\"Before\",\n",
    "\"B4N\":\"Bye For Now\",\n",
    "\"CU\":\"See You\",\n",
    "\"CUL8R\":\"See You Later\",\n",
    "\"CYA\":\"See You\",\n",
    "\"FAQ\":\"Frequently Asked Questions\",\n",
    "\"FC\":\"Fingers Crossed\",\n",
    "\"FWIW\":\"For What It's Worth\",\n",
    "\"FYI\":\"For Your Information\",\n",
    "\"GAL\":\"Get A Life\",\n",
    "\"GG\":\"Good Game\",\n",
    "\"GN\":\"Good Night\",\n",
    "\"GM\":\"Good Morning\",\n",
    "\"GMTA\":\"Great Minds Think Alike\",\n",
    "\"GR8\":\"Great\",\n",
    "\"G9\":\"Genius\",\n",
    "\"IC\":\"I See\",\n",
    "\"ICQ\":\"I Seek you\",\n",
    "\"ILU\":\"I Love You\",\n",
    "\"IMHO\":\"In My Honest Opinion\",\n",
    "\"IMO\":\"In My Opinion\",\n",
    "\"IOW\":\"In Other Words\",\n",
    "\"IRL\":\"In Real Life\",\n",
    "\"KISS\":\"Keep It Simple\",\n",
    "\"LDR\":\"Long Distance Relationship\",\n",
    "\"LMAO\":\"Laugh My A.. Off\",\n",
    "\"LOL\":\"Laughing Out Loud\",\n",
    "\"LTNS\":\"Long Time No See\",\n",
    "\"L8R\":\"Later\",\n",
    "\"MTE\":\"My Thoughts Exactly\",\n",
    "\"M8\":\"Mate\",\n",
    "\"NRN\":\"No Reply Necessary\",\n",
    "\"OIC\":\"Oh I See\",\n",
    "\"PITA\":\"Pain In The A..\",\n",
    "\"PRT\":\"Party\",\n",
    "\"PRW\":\"Parents Are Watching\",\n",
    "\"QPSA\":\"Que Pasa?\",\n",
    "\"ROFL\":\"Rolling On The Floor Laughing\",\n",
    "\"ROFLOL\":\"Rolling On The Floor Laughing Out Loud\",\n",
    "\"ROTFLMAO\":\"Rolling On The Floor Laughing My A.. Off\",\n",
    "\"SK8\":\"Skate\",\n",
    "\"STATS\":\"Your sex and age\",\n",
    "\"SRY\" : \"Sorry\",\n",
    "\"ASL\":\"Age, Sex, Location\",\n",
    "\"THX\":\"Thank You\",\n",
    "\"TTFN\":\"Ta-Ta For Now!\",\n",
    "\"TTYL\":\"Talk To You Later\",\n",
    "\"U\":\"You\",\n",
    "\"U2\":\"You Too\",\n",
    "\"U4E\":\"Yours For Ever\",\n",
    "\"WB\":\"Welcome Back\",\n",
    "\"WTF\":\"What The F...\",\n",
    "\"WTG\":\"Way To Go!\",\n",
    "\"WUF\":\"Where Are You From?\",\n",
    "\"W8\":\"Wait...\",\n",
    "\"7K\":\"Sick:-D Laugher\"\n",
    "}"
   ]
  },
  {
   "cell_type": "code",
   "execution_count": 13,
   "metadata": {},
   "outputs": [
    {
     "data": {
      "text/plain": [
       "'I <u>hate</u> to paly football on the weekends sry 🏈.'"
      ]
     },
     "execution_count": 13,
     "metadata": {},
     "output_type": "execute_result"
    }
   ],
   "source": [
    "data['text'][1]"
   ]
  },
  {
   "cell_type": "code",
   "execution_count": 14,
   "metadata": {},
   "outputs": [],
   "source": [
    "def clearning_text4(text):\n",
    "    final_text=[]\n",
    "    for word in text.split():\n",
    "        if word.upper() in dict1:\n",
    "            final_text.append(dict1[word.upper()])\n",
    "        else:\n",
    "            final_text.append(word)\n",
    "    return \" \".join(final_text) "
   ]
  },
  {
   "cell_type": "code",
   "execution_count": 15,
   "metadata": {},
   "outputs": [],
   "source": [
    "data['text']=data['text'].apply(clearning_text4)"
   ]
  },
  {
   "cell_type": "code",
   "execution_count": 16,
   "metadata": {},
   "outputs": [
    {
     "data": {
      "text/plain": [
       "'I <u>hate</u> to paly football on the weekends Sorry 🏈.'"
      ]
     },
     "execution_count": 16,
     "metadata": {},
     "output_type": "execute_result"
    }
   ],
   "source": [
    "data['text'][1]"
   ]
  }
 ],
 "metadata": {
  "kernelspec": {
   "display_name": "Python 3",
   "language": "python",
   "name": "python3"
  },
  "language_info": {
   "codemirror_mode": {
    "name": "ipython",
    "version": 3
   },
   "file_extension": ".py",
   "mimetype": "text/x-python",
   "name": "python",
   "nbconvert_exporter": "python",
   "pygments_lexer": "ipython3",
   "version": "3.7.9"
  }
 },
 "nbformat": 4,
 "nbformat_minor": 4
}
